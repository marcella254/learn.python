{
 "cells": [
  {
   "cell_type": "markdown",
   "id": "d91f8cba-e8ea-40df-a909-46ae2f428656",
   "metadata": {},
   "source": [
    "# Linear Regresssion"
   ]
  },
  {
   "cell_type": "code",
   "execution_count": 26,
   "id": "a12fb65a-7e13-405b-87b9-f7237cac76c1",
   "metadata": {},
   "outputs": [
    {
     "name": "stdout",
     "output_type": "stream",
     "text": [
      "The R^2 of the train is :0.78\n",
      "The R^2 of the test is :0.73\n",
      "The coeffients of the model is :[ 1.95664033e-01 -1.24998359e-02 -1.83925145e-02 -3.08554299e-04\n",
      " -6.58769659e-01  4.67316114e+00 -1.41047944e+00 -1.79519061e+00\n",
      " -1.02466251e+00 -8.16682870e-01 -6.95506836e-01 -2.65194673e-02\n",
      "  6.52894932e-02  3.22253562e-04 -1.16323309e+01 -4.43943865e-02\n",
      "  3.04134165e+00 -8.31729413e+00 -2.44644000e+00  1.96844051e+01\n",
      " -1.78964757e-01 -2.00410588e-04 -4.02896117e-03  1.17548563e-03\n",
      " -4.04988322e-01 -1.15267671e-01 -4.11583121e-01 -9.11239745e-01\n",
      " -1.12925131e-01 -5.02459596e+00]\n",
      "The intercept of the model is :3.264323682949687\n",
      "y=[ 1.95664033e-01 -1.24998359e-02 -1.83925145e-02 -3.08554299e-04\n",
      " -6.58769659e-01  4.67316114e+00 -1.41047944e+00 -1.79519061e+00\n",
      " -1.02466251e+00 -8.16682870e-01 -6.95506836e-01 -2.65194673e-02\n",
      "  6.52894932e-02  3.22253562e-04 -1.16323309e+01 -4.43943865e-02\n",
      "  3.04134165e+00 -8.31729413e+00 -2.44644000e+00  1.96844051e+01\n",
      " -1.78964757e-01 -2.00410588e-04 -4.02896117e-03  1.17548563e-03\n",
      " -4.04988322e-01 -1.15267671e-01 -4.11583121e-01 -9.11239745e-01\n",
      " -1.12925131e-01 -5.02459596e+00] x + 3.264323682949687\n"
     ]
    }
   ],
   "source": [
    "import mglearn\n",
    "import sklearn\n",
    "dir(sklearn.datasets)\n",
    "from sklearn.datasets import load_breast_cancer\n",
    "\n",
    "data=load_breast_cancer()\n",
    "# print(data.keys())\n",
    "# #print(data.DESCR)\n",
    "# print(data.feature_names)\n",
    "# print(len(data.feature_names))\n",
    "# print(data.target_names)\n",
    "\n",
    "# display the variables(independent and dependent variables)\n",
    "x=data.data\n",
    "y=data.target\n",
    "\n",
    "#training and testing the data\n",
    "from sklearn.model_selection import train_test_split\n",
    "x_train,x_test,y_train,y_test=train_test_split(x,y,random_state=0)\n",
    "#y_train.shape + y_test.shape\n",
    "\n",
    "# #fitting the model\n",
    "from sklearn.linear_model import LinearRegression\n",
    "model=LinearRegression()\n",
    "model.fit(x_train,y_train)\n",
    "\n",
    "#fitting the accuracy of the model\n",
    "print('The R^2 of the train is :{:.2f}'.format(model.score(x_train,y_train)))\n",
    "print('The R^2 of the test is :{:.2f}'.format(model.score(x_test,y_test)))\n",
    "\n",
    " # fitting the slope of the model \n",
    "print('The coeffients of the model is :{}'.format(model.coef_))\n",
    "# # fitting the intercept of the model \n",
    "print('The intercept of the model is :{}'.format(model.intercept_))\n",
    "\n",
    "#fitting the equation of the model\n",
    "print(f'y={model.coef_} x + {model.intercept_}')\n",
    "\n",
    "# #no.of gradiants not equal to zero\n",
    "# print(len(model.coef_ !=0))\n",
    "# print('Features with zero gradient:{}'.format(np.sum(model.coef_==0)))\n",
    "\n"
   ]
  },
  {
   "cell_type": "code",
   "execution_count": null,
   "id": "b373b86c-434f-4964-b48a-54829208bb86",
   "metadata": {},
   "outputs": [],
   "source": []
  },
  {
   "cell_type": "markdown",
   "id": "43a35be3-fe58-4beb-ba45-472d05772007",
   "metadata": {},
   "source": [
    "our model is 73% accurate \n",
    "it is a generalised model(good model)"
   ]
  },
  {
   "cell_type": "markdown",
   "id": "c8ed2fe4-4f79-4d40-8627-e5fdc710af97",
   "metadata": {},
   "source": [
    "# Ridge Regression"
   ]
  },
  {
   "cell_type": "code",
   "execution_count": 97,
   "id": "7d0a6225-4126-4cd6-be0b-dae36141f59e",
   "metadata": {},
   "outputs": [
    {
     "name": "stdout",
     "output_type": "stream",
     "text": [
      "The R^2 of the train is :0.75\n",
      "The R^2 of the test is :0.72\n"
     ]
    },
    {
     "data": {
      "text/plain": [
       "[<matplotlib.lines.Line2D at 0x17e0a59ffb0>]"
      ]
     },
     "execution_count": 97,
     "metadata": {},
     "output_type": "execute_result"
    },
    {
     "data": {
      "image/png": "[encoded data removed]",
      "text/plain": [
       "<Figure size 640x480 with 1 Axes>"
      ]
     },
     "metadata": {},
     "output_type": "display_data"
    }
   ],
   "source": [
    "#increses R^2 test and increases\n",
    "#converges gradient to zero\n",
    "from sklearn.linear_model import Ridge\n",
    "Rid=Ridge()\n",
    "Rid.fit(x_train,y_train)\n",
    "#fitting the accuracy of the model\n",
    "print('The R^2 of the train is :{:.2f}'.format(Rid.score(x_train,y_train)))\n",
    "print('The R^2 of the test is :{:.2f}'.format(Rid.score(x_test,y_test)))\n",
    "\n",
    "# # fitting the slope of the model \n",
    "# print('The coeffients of the model is :{}'.format(Rid.coef_))\n",
    "\n",
    "# # fitting the intercept of the model \n",
    "# print('The coeffients of the model is :{}'.format(Rid.intercept_))\n",
    "\n",
    "# #fitting the equation of the model\n",
    "# print(f'y={Rid.coef_} x + {Rid.intercept_}')\n",
    "# print('Features with zero gradient:{}'.format(np.sum(Rid.coef_==0)))\n",
    "\n",
    "#plotting the graph\n",
    "from matplotlib import pyplot as plt\n",
    "plt.plot('Rid','o',label='Ridge_alpha_1')\n",
    "\n"
   ]
  },
  {
   "cell_type": "markdown",
   "id": "ad839e0e-f8ce-43bb-acdd-eaf333e66522",
   "metadata": {},
   "source": [
    "# LASSO REGRESSION"
   ]
  },
  {
   "cell_type": "code",
   "execution_count": 80,
   "id": "99c7d642-5c51-4829-b3a4-f8796d25b03d",
   "metadata": {},
   "outputs": [
    {
     "name": "stdout",
     "output_type": "stream",
     "text": [
      "The R^2 of the train is :0.55\n",
      "The R^2 of the test is :0.61\n",
      "The coeffients of the model is :[-0.         -0.         -0.         -0.         -0.         -0.\n",
      " -0.         -0.         -0.         -0.         -0.         -0.\n",
      " -0.          0.         -0.         -0.         -0.         -0.\n",
      " -0.         -0.         -0.         -0.         -0.00362923 -0.00038715\n",
      " -0.         -0.         -0.         -0.         -0.         -0.        ]\n",
      "The coeffients of the model is :1.3604082226185505\n",
      "y=[-0.         -0.         -0.         -0.         -0.         -0.\n",
      " -0.         -0.         -0.         -0.         -0.         -0.\n",
      " -0.          0.         -0.         -0.         -0.         -0.\n",
      " -0.         -0.         -0.         -0.         -0.00362923 -0.00038715\n",
      " -0.         -0.         -0.         -0.         -0.         -0.        ] x + 1.3604082226185505\n",
      "Features with zero gradient:28\n"
     ]
    }
   ],
   "source": [
    "from sklearn.linear_model import Lasso\n",
    "import numpy as np\n",
    "las=Lasso(alpha=1)\n",
    "las.fit(x_train,y_train)\n",
    "\n",
    "#fitting the accuracy of the model\n",
    "print('The R^2 of the train is :{:.2f}'.format(las.score(x_train,y_train)))\n",
    "print('The R^2 of the test is :{:.2f}'.format(las.score(x_test,y_test)))\n",
    "\n",
    "# fitting the slope of the model \n",
    "print('The coeffients of the model is :{}'.format(las.coef_))\n",
    "# fitting the intercept of the model \n",
    "print('The coeffients of the model is :{}'.format(las.intercept_))\n",
    "#fitting the equation of the model\n",
    "print(f'y={las.coef_} x + {las.intercept_}')\n",
    "\n",
    "print('Features with zero gradient:{}'.format(np.sum(las.coef_==0)))\n",
    "\n",
    "\n"
   ]
  },
  {
   "cell_type": "code",
   "execution_count": 83,
   "id": "a01d7edf-f659-449c-a5f9-c19ef1ae95b0",
   "metadata": {},
   "outputs": [
    {
     "name": "stdout",
     "output_type": "stream",
     "text": [
      "The R^2 of the train is :0.67\n",
      "The R^2 of the test is :0.68\n"
     ]
    }
   ],
   "source": [
    "#decrease alpha and increase iterations for model to be accurate\n",
    "#training and testing the data\n",
    "from sklearn.model_selection import train_test_split\n",
    "x_train,x_test,y_train,y_test=train_test_split(x,y,random_state=0)\n",
    "from sklearn.linear_model import Lasso\n",
    "import numpy as np\n",
    "lass=Lasso(alpha=0.1,max_iter=10000)\n",
    "lass.fit(x_train,y_train)\n",
    "\n",
    "#fitting the accuracy of the model\n",
    "print('The R^2 of the train is :{:.2f}'.format(lass.score(x_train,y_train)))\n",
    "print('The R^2 of the test is :{:.2f}'.format(lass.score(x_test,y_test)))\n",
    "\n",
    "# # fitting the slope of the model \n",
    "# print('The coeffients of the model is :{}'.format(lass.coef_))\n",
    "# # fitting the intercept of the model \n",
    "# print('The coeffients of the model is :{}'.format(lass.intercept_))\n",
    "# #fitting the equation of the model\n",
    "# print(f'y={lass.coef_} x + {lass.intercept_}')\n",
    "\n",
    "# print('Features with zero gradient:{}'.format(np.sum(lass.coef_==0)))"
   ]
  },
  {
   "cell_type": "code",
   "execution_count": 84,
   "id": "86198158-10b4-47c3-9358-636e45af1dbd",
   "metadata": {},
   "outputs": [
    {
     "name": "stdout",
     "output_type": "stream",
     "text": [
      "The R^2 of the train is :0.69\n",
      "The R^2 of the test is :0.68\n"
     ]
    }
   ],
   "source": [
    "#decrease alpha and increase iterations for model to be accurate\n",
    "#training and testing the data\n",
    "from sklearn.model_selection import train_test_split\n",
    "x_train,x_test,y_train,y_test=train_test_split(x,y,random_state=0)\n",
    "from sklearn.linear_model import Lasso\n",
    "import numpy as np\n",
    "lass1=Lasso(alpha=0.01,max_iter=10000)\n",
    "lass1.fit(x_train,y_train)\n",
    "\n",
    "#fitting the accuracy of the model\n",
    "print('The R^2 of the train is :{:.2f}'.format(lass1.score(x_train,y_train)))\n",
    "print('The R^2 of the test is :{:.2f}'.format(lass1.score(x_test,y_test)))\n",
    "\n",
    "# # fitting the slope of the model \n",
    "# print('The coeffients of the model is :{}'.format(lass1.coef_))\n",
    "# # fitting the intercept of the model \n",
    "# print('The coeffients of the model is :{}'.format(lass1.intercept_))\n",
    "# #fitting the equation of the model\n",
    "# print(f'y={lass1.coef_} x + {lass1.intercept_}')\n",
    "# print('Features with zero gradient:{}'.format(np.sum(lass1.coef_==0)))"
   ]
  },
  {
   "cell_type": "code",
   "execution_count": 77,
   "id": "45576f57-5e2e-4232-af91-9c7a1e37aa26",
   "metadata": {},
   "outputs": [
    {
     "name": "stdout",
     "output_type": "stream",
     "text": [
      "The R^2 of the train is :0.78\n",
      "The R^2 of the test is :0.72\n",
      "The coeffients of the model is :[ 8.24193860e-02 -1.65045496e-02 -2.66418582e-03 -2.96439806e-04\n",
      " -7.79439436e-02  3.14760828e+00 -9.77219467e-01 -1.65288552e+00\n",
      " -8.97881942e-01  1.84816253e-01 -5.95740753e-01 -4.30910010e-02\n",
      "  2.87269615e-02  9.58351368e-04 -1.31156017e+00  2.94262361e-01\n",
      "  2.63331933e+00 -9.47808876e-01 -1.07330371e+00  4.71819647e-01\n",
      " -1.69444158e-01  3.20956258e-03 -7.84243823e-04  1.01880400e-03\n",
      " -1.69379878e+00 -1.04386097e-01 -4.77646738e-01 -1.49275003e+00\n",
      " -2.56895138e-01 -1.52154211e+00]\n",
      "The coeffients of the model is :2.9553450721333485\n",
      "y=[ 8.24193860e-02 -1.65045496e-02 -2.66418582e-03 -2.96439806e-04\n",
      " -7.79439436e-02  3.14760828e+00 -9.77219467e-01 -1.65288552e+00\n",
      " -8.97881942e-01  1.84816253e-01 -5.95740753e-01 -4.30910010e-02\n",
      "  2.87269615e-02  9.58351368e-04 -1.31156017e+00  2.94262361e-01\n",
      "  2.63331933e+00 -9.47808876e-01 -1.07330371e+00  4.71819647e-01\n",
      " -1.69444158e-01  3.20956258e-03 -7.84243823e-04  1.01880400e-03\n",
      " -1.69379878e+00 -1.04386097e-01 -4.77646738e-01 -1.49275003e+00\n",
      " -2.56895138e-01 -1.52154211e+00] x + 2.7576158123218324\n",
      "Features with zero gradient:0\n"
     ]
    }
   ],
   "source": [
    "#increses R^2 test and increases\n",
    "#converges gradient to zero\n",
    "from sklearn.linear_model import Ridge\n",
    "Rid1=Ridge(alpha=0.01)\n",
    "Rid1.fit(x_train,y_train)\n",
    "#fitting the accuracy of the model\n",
    "print('The R^2 of the train is :{:.2f}'.format(Rid1.score(x_train,y_train)))\n",
    "print('The R^2 of the test is :{:.2f}'.format(Rid1.score(x_test,y_test)))\n",
    "\n",
    "# fitting the slope of the model \n",
    "print('The coeffients of the model is :{}'.format(Rid1.coef_))\n",
    "# fitting the intercept of the model \n",
    "print('The coeffients of the model is :{}'.format(Rid1.intercept_))\n",
    "#fitting the equation of the model\n",
    "print(f'y={Rid1.coef_} x + {Rid.intercept_}')\n",
    "print('Features with zero gradient:{}'.format(np.sum(Rid1.coef_==0)))\n",
    "#plotting the graph"
   ]
  },
  {
   "cell_type": "code",
   "execution_count": 85,
   "id": "320ecad3-38ab-48cb-b1b9-87e1e55e82c1",
   "metadata": {},
   "outputs": [
    {
     "name": "stdout",
     "output_type": "stream",
     "text": [
      "The R^2 of the train is :0.77\n",
      "The R^2 of the test is :0.72\n",
      "The coeffients of the model is :[ 3.66744315e-02 -1.34712103e-02  1.02542425e-02 -6.53416823e-04\n",
      " -3.66805084e-01  8.89432007e-01 -3.85034467e-01 -8.72278087e-01\n",
      " -4.96195306e-01  5.81026239e-02 -4.77803444e-01 -4.59880965e-02\n",
      "  2.45641539e-02  5.50288146e-04 -2.01043218e-01  5.25302032e-01\n",
      "  1.46114909e+00 -4.78798260e-02 -1.11214371e-01  1.04838717e-01\n",
      " -1.96984693e-01  3.87596495e-04 -5.69230566e-04  1.16609858e-03\n",
      " -1.06279110e+00  2.57376830e-02 -4.71412465e-01 -1.26326766e+00\n",
      " -4.60573008e-01 -3.30557012e-01]\n",
      "The coeffients of the model is :2.8576277543871598\n",
      "y=[ 3.66744315e-02 -1.34712103e-02  1.02542425e-02 -6.53416823e-04\n",
      " -3.66805084e-01  8.89432007e-01 -3.85034467e-01 -8.72278087e-01\n",
      " -4.96195306e-01  5.81026239e-02 -4.77803444e-01 -4.59880965e-02\n",
      "  2.45641539e-02  5.50288146e-04 -2.01043218e-01  5.25302032e-01\n",
      "  1.46114909e+00 -4.78798260e-02 -1.11214371e-01  1.04838717e-01\n",
      " -1.96984693e-01  3.87596495e-04 -5.69230566e-04  1.16609858e-03\n",
      " -1.06279110e+00  2.57376830e-02 -4.71412465e-01 -1.26326766e+00\n",
      " -4.60573008e-01 -3.30557012e-01] x + 2.7576158123218324\n",
      "Features with zero gradient:0\n"
     ]
    }
   ],
   "source": [
    "#increses R^2 test and increases\n",
    "#converges gradient to zero\n",
    "from sklearn.linear_model import Ridge\n",
    "Rid2=Ridge(alpha=0.1)\n",
    "Rid2.fit(x_train,y_train)\n",
    "#fitting the accuracy of the model\n",
    "print('The R^2 of the train is :{:.2f}'.format(Rid2.score(x_train,y_train)))\n",
    "print('The R^2 of the test is :{:.2f}'.format(Rid2.score(x_test,y_test)))\n",
    "\n",
    "# # fitting the slope of the model \n",
    "# print('The coeffients of the model is :{}'.format(Rid2.coef_))\n",
    "# # fitting the intercept of the model \n",
    "# print('The coeffients of the model is :{}'.format(Rid2.intercept_))\n",
    "# #fitting the equation of the model\n",
    "# print(f'y={Rid2.coef_} x + {Ri2.intercept_}')\n",
    "# print('Features with zero gradient:{}'.format(np.sum(Rid2.coef_==0)))\n",
    "# #plotting the graph"
   ]
  }
 ],
 "metadata": {
  "kernelspec": {
   "display_name": "Python 3 (ipykernel)",
   "language": "python",
   "name": "python3"
  },
  "language_info": {
   "codemirror_mode": {
    "name": "ipython",
    "version": 3
   },
   "file_extension": ".py",
   "mimetype": "text/x-python",
   "name": "python",
   "nbconvert_exporter": "python",
   "pygments_lexer": "ipython3",
   "version": "3.12.7"
  }
 },
 "nbformat": 4,
 "nbformat_minor": 5
}
