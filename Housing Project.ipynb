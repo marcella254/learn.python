{
 "cells": [
  {
   "cell_type": "code",
   "execution_count": 124,
   "id": "3b0194aa-60c1-40ee-9e0a-530db5645bb3",
   "metadata": {},
   "outputs": [
    {
     "name": "stdout",
     "output_type": "stream",
     "text": [
      "<class 'pandas.core.frame.DataFrame'>\n",
      "RangeIndex: 545 entries, 0 to 544\n",
      "Data columns (total 13 columns):\n",
      " #   Column            Non-Null Count  Dtype \n",
      "---  ------            --------------  ----- \n",
      " 0   price             545 non-null    int64 \n",
      " 1   area              545 non-null    int64 \n",
      " 2   bedrooms          545 non-null    int64 \n",
      " 3   bathrooms         545 non-null    int64 \n",
      " 4   stories           545 non-null    int64 \n",
      " 5   mainroad          545 non-null    object\n",
      " 6   guestroom         545 non-null    object\n",
      " 7   basement          545 non-null    object\n",
      " 8   hotwaterheating   545 non-null    object\n",
      " 9   airconditioning   545 non-null    object\n",
      " 10  parking           545 non-null    int64 \n",
      " 11  prefarea          545 non-null    object\n",
      " 12  furnishingstatus  545 non-null    object\n",
      "dtypes: int64(6), object(7)\n",
      "memory usage: 55.5+ KB\n",
      "<class 'pandas.core.frame.DataFrame'>\n",
      "RangeIndex: 545 entries, 0 to 544\n",
      "Data columns (total 13 columns):\n",
      " #   Column            Non-Null Count  Dtype   \n",
      "---  ------            --------------  -----   \n",
      " 0   price             545 non-null    int32   \n",
      " 1   area              545 non-null    int32   \n",
      " 2   bedrooms          545 non-null    category\n",
      " 3   bathrooms         545 non-null    category\n",
      " 4   stories           545 non-null    category\n",
      " 5   mainroad          545 non-null    category\n",
      " 6   guestroom         545 non-null    category\n",
      " 7   basement          545 non-null    category\n",
      " 8   hotwaterheating   545 non-null    category\n",
      " 9   airconditioning   545 non-null    category\n",
      " 10  parking           545 non-null    category\n",
      " 11  prefarea          545 non-null    category\n",
      " 12  furnishingstatus  545 non-null    category\n",
      "dtypes: category(11), int32(2)\n",
      "memory usage: 11.9 KB\n"
     ]
    },
    {
     "name": "stderr",
     "output_type": "stream",
     "text": [
      "C:\\Users\\marcella\\Documents\\PYTHON1\\Lib\\site-packages\\numpy\\core\\fromnumeric.py:86: FutureWarning: The behavior of DataFrame.sum with axis=None is deprecated, in a future version this will reduce over both axes and return a scalar. To retain the old behavior, pass axis=0 (or do not pass axis)\n",
      "  return reduction(axis=axis, out=out, **passkwargs)\n"
     ]
    }
   ],
   "source": [
    "import numpy as np\n",
    "import pandas as pd\n",
    "from matplotlib import pyplot as plt\n",
    "data=pd.read_csv('C:\\\\Users\\\\marcella\\\\Downloads\\\\Housing.csv')\n",
    "data.info()\n",
    "np.sum(data.isna())#no missing values\n",
    "np.sum(data.duplicated())#no duplicates\n",
    "#changing the data types and transforming data\n",
    "data=data.astype('category')\n",
    "data[['price','area']]=data[['price','area']].astype(int)\n",
    "\n",
    "data.info()\n"
   ]
  },
  {
   "cell_type": "code",
   "execution_count": null,
   "id": "a51bc00d-a559-4fde-a1eb-780c717be369",
   "metadata": {},
   "outputs": [],
   "source": []
  },
  {
   "cell_type": "code",
   "execution_count": 122,
   "id": "9a56496a-cc13-463d-a8d3-9bbcebe0b6a1",
   "metadata": {},
   "outputs": [
    {
     "data": {
      "image/png": "[encoded data removed]",
      "text/plain": [
       "<Figure size 640x480 with 1 Axes>"
      ]
     },
     "metadata": {},
     "output_type": "display_data"
    },
    {
     "data": {
      "text/plain": [
       "<Figure size 1500x800 with 0 Axes>"
      ]
     },
     "metadata": {},
     "output_type": "display_data"
    },
    {
     "data": {
      "text/plain": [
       "[<matplotlib.lines.Line2D at 0x1c0e76f3a10>]"
      ]
     },
     "execution_count": 122,
     "metadata": {},
     "output_type": "execute_result"
    }
   ],
   "source": [
    "#data exploration---------------------------\n",
    "#checking for the summaries and visualisations\n",
    "data.describe()\n",
    "#checking outliers\n",
    "data.boxplot(column='price')#outliers\n",
    "#checking for distribution\n",
    "plt.figure(figsize=(15,8))\n",
    "plt.show()\n",
    "data.hist(column='price')\n",
    "\n",
    "data.boxplot(column='price')#outliers\n",
    "data.hist(column='price')#skewed\n",
    "# #normalising\n",
    "normalised_price=np.log(data['price'])\n",
    "data['normalised_price']=normalised_price\n",
    "plt.show()\n",
    "#data.boxplot(column='normalised_price')#outliers\n",
    "#choosing dependent and independent variable\n",
    "y=data['price'].values\n",
    "x=data[['area','bedrooms','bathrooms','stories','parking']].values\n",
    "plt.show()\n",
    "plt.plot(data['price'])"
   ]
  },
  {
   "cell_type": "code",
   "execution_count": 93,
   "id": "d79966da-0e82-4155-ac3d-0e94f0218142",
   "metadata": {},
   "outputs": [
    {
     "name": "stdout",
     "output_type": "stream",
     "text": [
      "The R^2 of the train is :0.54\n",
      "The R^2 of the test is :0.60\n"
     ]
    }
   ],
   "source": [
    "#training the model\n",
    "from sklearn.model_selection import train_test_split\n",
    "x_train,x_test,y_train,y_test=train_test_split(x,y,random_state=0)\n",
    "\n",
    "#fitting the model\n",
    "from sklearn.linear_model import LinearRegression\n",
    "model=LinearRegression()\n",
    "model.fit(x_train,y_train)\n",
    "\n",
    "# #predicting the model\n",
    "# model_predict=model.predict(x_test)\n",
    "#checking the accuracy\n",
    "print('The R^2 of the train is :{:.2f}'.format(model.score(x_train,y_train)))\n",
    "print('The R^2 of the test is :{:.2f}'.format(model.score(x_test,y_test)))\n"
   ]
  },
  {
   "cell_type": "code",
   "execution_count": 104,
   "id": "49433dec-1dfa-4d76-9ae1-4996c1c2a422",
   "metadata": {},
   "outputs": [
    {
     "name": "stdout",
     "output_type": "stream",
     "text": [
      "The R^2 score of test is :0.00\n",
      "The R^2 score of train is :0.22\n"
     ]
    }
   ],
   "source": [
    "\n",
    "from sklearn.model_selection import train_test_split\n",
    "x_train,x_test,y_train,y_test=train_test_split(x,y,random_state=0)\n",
    "#fitting the model\n",
    "from sklearn.neighbors import KNeighborsClassifier\n",
    "Decision=KNeighborsClassifier()\n",
    "Decision.fit(x_train,y_train)\n",
    "\n",
    "#accuracy of the model\n",
    "print(\"The R^2 score of test is :{:.2f}\".format(Decision.score(x_test,y_test)))\n",
    "print(\"The R^2 score of train is :{:.2f}\".format(Decision.score(x_train,y_train)))"
   ]
  },
  {
   "cell_type": "markdown",
   "id": "bc4e8de9-2eff-415f-b3a3-0426b4cea331",
   "metadata": {},
   "source": [
    "Decision tree"
   ]
  },
  {
   "cell_type": "code",
   "execution_count": 127,
   "id": "48b39819-0569-4e29-8bd1-9f05eac62033",
   "metadata": {},
   "outputs": [
    {
     "name": "stdout",
     "output_type": "stream",
     "text": [
      "The R^2 score of test is :0.00\n",
      "The R^2 score of train is :0.93\n"
     ]
    }
   ],
   "source": [
    "from sklearn.model_selection import train_test_split\n",
    "x_train,x_test,y_train,y_test=train_test_split(x,y,random_state=0)\n",
    "#fitting the model\n",
    "from sklearn.tree import DecisionTreeClassifier\n",
    "Dec=DecisionTreeClassifier()\n",
    "Dec.fit(x_train,y_train)\n",
    "\n",
    "#accuracy of the model\n",
    "print(\"The R^2 score of test is :{:.2f}\".format(Dec.score(x_test,y_test)))\n",
    "print(\"The R^2 score of train is :{:.2f}\".format(Dec.score(x_train,y_train)))"
   ]
  },
  {
   "cell_type": "markdown",
   "id": "d947b03d-d2e4-4c80-9b33-ad63fa494a01",
   "metadata": {},
   "source": [
    "Random forest\n"
   ]
  },
  {
   "cell_type": "code",
   "execution_count": 128,
   "id": "4c8ee21b-5886-407c-a930-4ce84481569d",
   "metadata": {},
   "outputs": [
    {
     "name": "stdout",
     "output_type": "stream",
     "text": [
      "The R^2 score of test is :0.01\n",
      "The R^2 score of train is :0.93\n"
     ]
    }
   ],
   "source": [
    "from sklearn.model_selection import train_test_split\n",
    "x_train,x_test,y_train,y_test=train_test_split(x,y,random_state=0)\n",
    "#fitting the model\n",
    "from sklearn.ensemble import RandomForestClassifier\n",
    "Random=DecisionTreeClassifier()\n",
    "Random.fit(x_train,y_train)\n",
    "\n",
    "#accuracy of the model\n",
    "print(\"The R^2 score of test is :{:.2f}\".format(Random.score(x_test,y_test)))\n",
    "print(\"The R^2 score of train is :{:.2f}\".format(Random.score(x_train,y_train)))"
   ]
  }
 ],
 "metadata": {
  "kernelspec": {
   "display_name": "Python 3 (ipykernel)",
   "language": "python",
   "name": "python3"
  },
  "language_info": {
   "codemirror_mode": {
    "name": "ipython",
    "version": 3
   },
   "file_extension": ".py",
   "mimetype": "text/x-python",
   "name": "python",
   "nbconvert_exporter": "python",
   "pygments_lexer": "ipython3",
   "version": "3.12.7"
  }
 },
 "nbformat": 4,
 "nbformat_minor": 5
}
